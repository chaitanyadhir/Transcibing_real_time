{
 "cells": [
  {
   "cell_type": "code",
   "execution_count": 24,
   "metadata": {},
   "outputs": [],
   "source": [
    "import os\n",
    "import json\n",
    "import time\n",
    "from pathlib import Path \n",
    "import whisper \n",
    "import logging\n",
    "from watchdog.events import FileSystemEventHandler\n",
    "from watchdog.observers import Observer"
   ]
  },
  {
   "cell_type": "code",
   "execution_count": 25,
   "metadata": {},
   "outputs": [],
   "source": [
    "class Monitoring(FileSystemEventHandler):\n",
    "    def __init__(self, folder_path):\n",
    "        self.folder_path = folder_path\n",
    "        self._ensure_tracker_file_exists()\n",
    "        \n",
    "    def _ensure_tracker_file_exists(self):\n",
    "        json_file_path = os.path.join(self.folder_path, \"transcript_tracker.json\")\n",
    "        if not os.path.exists(json_file_path):\n",
    "            print(f\"{json_file_path} not found. Creating a new one...\")\n",
    "            with open(json_file_path, \"w\") as j:\n",
    "                json.dump({}, j)\n",
    "            time.sleep(1)\n",
    "\n",
    "    def on_created(self, event):\n",
    "        if not event.is_directory and os.path.isfile(event.src_path):\n",
    "            json_file_path = os.path.join(self.folder_path, \"transcript_tracker.json\")\n",
    "            try:\n",
    "                self._ensure_tracker_file_exists()\n",
    "                \n",
    "                with open(json_file_path, \"r\") as j:\n",
    "                    json_file = json.load(j)\n",
    "                \n",
    "                if event.src_path not in json_file.keys():\n",
    "                    print(f\"New file detected: {event.src_path}\")\n",
    "                    system = TranscriberSystem(self.folder_path)\n",
    "                    system.process_files()\n",
    "            except Exception as e:\n",
    "                print(f\"Error processing new file: {e}\")\n",
    "        \n",
    "    def observer(self):\n",
    "        print(\"Observer has started, monitoring folder:\", self.folder_path)\n",
    "\n",
    "        try:\n",
    "            observer = Observer()\n",
    "            observer.schedule(self, self.folder_path, recursive=True)\n",
    "            observer.start()\n",
    "            try:\n",
    "                while True:\n",
    "                    time.sleep(1)\n",
    "            except KeyboardInterrupt:\n",
    "                print(\"Keyboard interrupt received, stopping observer...\")\n",
    "                observer.stop()\n",
    "                observer.join()\n",
    "                print(\"Observer Stopped.\")\n",
    "        except Exception as e:\n",
    "            print(f\"Observer error: {e}\")"
   ]
  },
  {
   "cell_type": "code",
   "execution_count": 26,
   "metadata": {},
   "outputs": [],
   "source": [
    "class FileScanner:\n",
    "    def __init__(self,folder_path,TranscriptTracker):\n",
    "        self.tracker = TranscriptTracker\n",
    "        self.folderpath=folder_path\n",
    "        self.scan_folder=self.scan(self.is_supported(folder_path))\n",
    "\n",
    "    def is_supported(self,folder_path):\n",
    "        supp=[\".mp4\",\".wav\",\".mp3\",\".ogg\",\".mkv\",\".mov\", \".flv\",\".aac\",\".m4a\"]\n",
    "        supported_files=[]\n",
    "        for i in Path(folder_path).rglob(\"*\"):\n",
    "            if i.suffix.lower() in supp:\n",
    "                supported_files.append(i)\n",
    "            else:\n",
    "                continue\n",
    "        return supported_files\n",
    "    \n",
    "    def scan(self,supported_files):\n",
    "        a=[]\n",
    "        for f in supported_files:\n",
    "            if not self.tracker.is_processed(f):\n",
    "                a.append(f)\n",
    "            else:\n",
    "                continue\n",
    "        return a"
   ]
  },
  {
   "cell_type": "code",
   "execution_count": 27,
   "metadata": {},
   "outputs": [],
   "source": [
    "class TransciptTracker():\n",
    "    def __init__(self, transcript_file):\n",
    "        self.tracker_file = transcript_file\n",
    "        self.processed_files=self.load_tracker()\n",
    "    \n",
    "    def load_tracker(self):\n",
    "        if os.path.exists(self.tracker_file):\n",
    "            with open(self.tracker_file, 'r') as f:\n",
    "                return json.load(f)\n",
    "        return {}\n",
    "        \n",
    "    def is_processed(self,file_path):\n",
    "        file_path_str=str(file_path)\n",
    "        if file_path_str in self.processed_files:\n",
    "            last_mtime=self.processed_files[file_path_str][\"mtime\"]\n",
    "            return last_mtime==os.path.getmtime(file_path)\n",
    "        return False\n",
    "\n",
    "    def mark_processed(self,file_path):\n",
    "        file_path_str=str(file_path)\n",
    "        self.processed_files[file_path_str]={\n",
    "            \"mtime\":os.path.getmtime(file_path),\n",
    "            \"processed_at\":time.time()\n",
    "        }\n",
    "        self.save_tracker()\n",
    "    \n",
    "    def save_tracker(self):\n",
    "        with open(self.tracker_file, 'w') as f:\n",
    "            json.dump(self.processed_files, f, indent=2)\n",
    "    pass"
   ]
  },
  {
   "cell_type": "code",
   "execution_count": 28,
   "metadata": {},
   "outputs": [],
   "source": [
    "class Transcriber():\n",
    "    def __init__(self,transcript_tracker):\n",
    "        self.model = whisper.load_model(\"base\")\n",
    "        self.tracker = TransciptTracker\n",
    "\n",
    "    def file_str_path(self,file_path):\n",
    "        file_path_strr=str(file_path)\n",
    "        return file_path_strr\n",
    "    \n",
    "    def transcribe(self,file_path_strr):\n",
    "        try:\n",
    "            transcribed_text=self.model.transcribe(file_path_strr)['text']\n",
    "            return transcribed_text\n",
    "        except Exception as e:\n",
    "            return f\"Error: {e}\"\n",
    "    pass"
   ]
  },
  {
   "cell_type": "code",
   "execution_count": 29,
   "metadata": {},
   "outputs": [],
   "source": [
    "class TranscriberSystem:\n",
    "    def __init__(self,folder_path):\n",
    "        self.tracker = TransciptTracker(os.path.join(folder_path, \"transcript_tracker.json\")) \n",
    "        self.scanner = FileScanner(folder_path, self.tracker) \n",
    "        self.transcriber = Transcriber(self.tracker) \n",
    "    \n",
    "    def process_files(self):\n",
    "        for file_path in self.scanner.scan_folder:\n",
    "            print(f\"Processing: {file_path}\")\n",
    "            trans=self.transcriber.transcribe(str(file_path))\n",
    "            output_file=file_path.with_suffix(\".txt\")\n",
    "            with open(output_file,\"w\",encoding='utf-8') as f:\n",
    "                f.write(trans)\n",
    "            print(f\"saved_transciption: {output_file}\")\n",
    "            self.tracker.mark_processed(file_path)"
   ]
  },
  {
   "cell_type": "code",
   "execution_count": 30,
   "metadata": {},
   "outputs": [],
   "source": [
    "def main():\n",
    "    folder_path = \"C:\\\\projects\\\\live_transcipt\\\\files\"\n",
    "    system = TranscriberSystem(folder_path)\n",
    "    system.process_files()\n",
    "    monitor = Monitoring(folder_path)\n",
    "    monitor.observer()"
   ]
  },
  {
   "cell_type": "code",
   "execution_count": null,
   "metadata": {},
   "outputs": [
    {
     "name": "stdout",
     "output_type": "stream",
     "text": [
      "Observer has started, monitoring folder: C:\\projects\\live_transcipt\\files\n",
      "New file detected: C:\\projects\\live_transcipt\\files\\IMG_6717.MOV\n",
      "Processing: C:\\projects\\live_transcipt\\files\\IMG_6717.MOV\n",
      "saved_transciption: C:\\projects\\live_transcipt\\files\\IMG_6717.txt\n",
      "New file detected: C:\\projects\\live_transcipt\\files\\IMG_6717.txt\n"
     ]
    }
   ],
   "source": [
    "if __name__ == \"__main__\":\n",
    "    main()"
   ]
  },
  {
   "cell_type": "markdown",
   "metadata": {},
   "source": []
  }
 ],
 "metadata": {
  "kernelspec": {
   "display_name": "venv",
   "language": "python",
   "name": "python3"
  },
  "language_info": {
   "codemirror_mode": {
    "name": "ipython",
    "version": 3
   },
   "file_extension": ".py",
   "mimetype": "text/x-python",
   "name": "python",
   "nbconvert_exporter": "python",
   "pygments_lexer": "ipython3",
   "version": "3.10.7"
  }
 },
 "nbformat": 4,
 "nbformat_minor": 2
}
